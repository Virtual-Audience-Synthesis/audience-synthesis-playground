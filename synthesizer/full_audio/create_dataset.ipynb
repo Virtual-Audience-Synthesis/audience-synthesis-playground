{
 "cells": [
  {
   "cell_type": "code",
   "execution_count": 3,
   "metadata": {},
   "outputs": [
    {
     "output_type": "stream",
     "name": "stdout",
     "text": [
      "The autoreload extension is already loaded. To reload it, use:\n  %reload_ext autoreload\n"
     ]
    }
   ],
   "source": [
    "%load_ext autoreload\n",
    "%autoreload 2\n",
    "\n",
    "import os\n",
    "import numpy as np \n",
    "from multiprocessing import Pool\n",
    "import time \n",
    "\n",
    "import sys\n",
    "from pathlib import Path\n",
    "\n",
    "try:\n",
    "    sys.path.append(str(Path().cwd().parent.parent))\n",
    "except IndexError:\n",
    "    pass\n",
    "\n",
    "#import utils.audio as a\n",
    "#import utils.plots as plots\n",
    "import utils as utils"
   ]
  },
  {
   "cell_type": "code",
   "execution_count": 4,
   "metadata": {},
   "outputs": [
    {
     "output_type": "execute_result",
     "data": {
      "text/plain": [
       "           Filename  Gender  Count      Type  Enthusiasm\n",
       "0   _547JTmvb9g_enc  female      1  laughter           3\n",
       "1   1-1791-A-26_enc     mix      2    giggle           1\n",
       "2  1-33658-A-26_enc  female      1  laughter           1\n",
       "3  1-36164-A-26_enc  female      1    giggle           1\n",
       "4  1-36164-B-26_enc  female      1  laughter           2"
      ],
      "text/html": "<div>\n<style scoped>\n    .dataframe tbody tr th:only-of-type {\n        vertical-align: middle;\n    }\n\n    .dataframe tbody tr th {\n        vertical-align: top;\n    }\n\n    .dataframe thead th {\n        text-align: right;\n    }\n</style>\n<table border=\"1\" class=\"dataframe\">\n  <thead>\n    <tr style=\"text-align: right;\">\n      <th></th>\n      <th>Filename</th>\n      <th>Gender</th>\n      <th>Count</th>\n      <th>Type</th>\n      <th>Enthusiasm</th>\n    </tr>\n  </thead>\n  <tbody>\n    <tr>\n      <th>0</th>\n      <td>_547JTmvb9g_enc</td>\n      <td>female</td>\n      <td>1</td>\n      <td>laughter</td>\n      <td>3</td>\n    </tr>\n    <tr>\n      <th>1</th>\n      <td>1-1791-A-26_enc</td>\n      <td>mix</td>\n      <td>2</td>\n      <td>giggle</td>\n      <td>1</td>\n    </tr>\n    <tr>\n      <th>2</th>\n      <td>1-33658-A-26_enc</td>\n      <td>female</td>\n      <td>1</td>\n      <td>laughter</td>\n      <td>1</td>\n    </tr>\n    <tr>\n      <th>3</th>\n      <td>1-36164-A-26_enc</td>\n      <td>female</td>\n      <td>1</td>\n      <td>giggle</td>\n      <td>1</td>\n    </tr>\n    <tr>\n      <th>4</th>\n      <td>1-36164-B-26_enc</td>\n      <td>female</td>\n      <td>1</td>\n      <td>laughter</td>\n      <td>2</td>\n    </tr>\n  </tbody>\n</table>\n</div>"
     },
     "metadata": {},
     "execution_count": 4
    }
   ],
   "source": [
    "LABELS = \"../../datasets/dataset_laughter_single_22050.csv\"\n",
    "input_df = utils.misc.readCSV(LABELS)\n",
    "input_df.head()\n"
   ]
  },
  {
   "cell_type": "markdown",
   "metadata": {},
   "source": [
    "### Females"
   ]
  },
  {
   "cell_type": "code",
   "execution_count": 5,
   "metadata": {},
   "outputs": [
    {
     "output_type": "stream",
     "name": "stdout",
     "text": [
      "             Filename  Gender  Count      Type  Enthusiasm\n0     _547JTmvb9g_enc  female      1  laughter           3\n2    1-33658-A-26_enc  female      1  laughter           1\n3    1-36164-A-26_enc  female      1    giggle           1\n4    1-36164-B-26_enc  female      1  laughter           2\n5    1-72695-A-26_enc  female      1  laughter           2\n6    1-73123-A-26_enc  female      1  laughter           1\n8    2-79775-A-26_enc  female      1  laughter           2\n9   2-109759-A-26_enc  female      1  laughter           1\n10  2-109759-B-26_enc  female      1  laughter           2\n11  3-107123-A-26_enc  female      1  laughter           3\n12  3-110536-A-26_enc  female      1  laughter           2\n13  3-118487-A-26_enc  female      1  laughter           3\n15  3-152912-A-26_enc  female      1  laughter           2\n16  3-152997-A-26_enc  female      1  laughter           1\n17  4-181599-A-26_enc  female      1  laughter           3\n24    D-1RsAdzIcc_enc  female      1    giggle           2\n26    yc2X4I-KiZA_enc  female      2  laughter           3\n27    yc4mmvlO39M_enc  female      1  laughter           3\nFilename      _547JTmvb9g_enc\nGender                 female\nCount                       1\nType                 laughter\nEnthusiasm                  3\nName: 0, dtype: object\n_547JTmvb9g_enc\n"
     ]
    }
   ],
   "source": [
    "# get female laughter\n",
    "idx_female = input_df.index[input_df['Gender'] == 'female']\n",
    "females = input_df.iloc[idx_female]\n",
    "print(females)\n",
    "print(females.iloc[0])\n",
    "print(input_df.iloc[0].Filename)"
   ]
  },
  {
   "cell_type": "markdown",
   "metadata": {},
   "source": [
    "### Males"
   ]
  },
  {
   "cell_type": "code",
   "execution_count": 6,
   "metadata": {},
   "outputs": [
    {
     "output_type": "stream",
     "name": "stdout",
     "text": [
      "             Filename Gender  Count      Type  Enthusiasm\n7    2-79769-A-26_enc   male      1  laughter           2\n14  3-119459-A-26_enc   male      1  laughter           3\n20  5-244526-A-26_enc   male      1  laughter           3\n21  5-259514-A-26_enc   male      1  laughter           2\n22  5-263775-A-26_enc   male      1    giggle           2\n23  5-263775-B-26_enc   male      1  laughter           3\n25    THhP1idrWXA_enc   male      3  laughter           3\nFilename      2-79769-A-26_enc\nGender                    male\nCount                        1\nType                  laughter\nEnthusiasm                   2\nName: 7, dtype: object\n_547JTmvb9g_enc\n"
     ]
    }
   ],
   "source": [
    "# get male laughter\n",
    "idx_male = input_df.index[input_df['Gender'] == 'male']\n",
    "males = input_df.iloc[idx_male]\n",
    "print(males)\n",
    "print(males.iloc[0])\n",
    "print(input_df.iloc[0].Filename)"
   ]
  },
  {
   "cell_type": "code",
   "execution_count": 7,
   "metadata": {},
   "outputs": [],
   "source": [
    "PATH = '../../datasets/dataset_laughter_single_22050/'\n",
    "SR = 22050 \n",
    "\n",
    "dataset = []\n",
    "for i in np.arange(len(input_df)):\n",
    "    audio, sr = utils.audio.loadAudio(PATH + input_df.iloc[i].Filename + '.wav', sr=SR, fix_length=True, length=10)\n",
    "    dataset.append(audio)"
   ]
  },
  {
   "cell_type": "markdown",
   "metadata": {},
   "source": [
    "### Create N Female audio files without alpha, beta "
   ]
  },
  {
   "cell_type": "code",
   "execution_count": 8,
   "metadata": {},
   "outputs": [
    {
     "output_type": "stream",
     "name": "stdout",
     "text": [
      "36.594746828079224\n"
     ]
    }
   ],
   "source": [
    "N = 500\n",
    "\n",
    "t = time.time()\n",
    "if not os.path.exists('female_audios'):\n",
    "    os.makedirs('female_audios')\n",
    "\n",
    "PATH = \"female_audios/\"\n",
    "len_females = len(females)\n",
    "\n",
    "# in percent\n",
    "min_speed, max_speed = 0.9, 1.2\n",
    "speed_range = (max_speed - min_speed)  # 2\n",
    "max_noise = 0.001 \n",
    "min_pitch, max_pitch = -4, 4\n",
    "audio = np.zeros_like(dataset[0])\n",
    "\n",
    "idx_list = utils.misc.getFemaleList(input_df, N)\n",
    "\n",
    "# add radial decay\n",
    "alpha=np.random.rand(N)\n",
    "beta=np.reciprocal(np.sqrt(np.arange(1, N+1)))\n",
    "\n",
    "#pdb.set_trace()\n",
    "noise_factor = list(np.random.rand(N) * max_noise)\n",
    "shift_max = np.random.rand(N) * 3 # in seconds\n",
    "shift = [np.random.randint(0, int(SR * i)) for i in shift_max]\n",
    "direction = [\"left\" if np.random.randint(0, 2) else \"right\" for i in np.arange(N)] \n",
    "pitch_factor = list(np.random.randint(min_pitch, max_pitch, N)) # pitch > 0 higher pitch, else deeper voice\n",
    "speed_factor = list(np.random.rand(N) * speed_range + min_speed)\n",
    "data = [dataset[idx] for idx in idx_list] \n",
    "\n",
    "#create arguments as list for parallel computing\n",
    "func_args = [(data[i], SR, noise_factor[i], shift[i], direction[i], pitch_factor[i], speed_factor[i]) for i in np.arange(N)]\n",
    "\n",
    "#multiprocessing\n",
    "with Pool(8) as p:\n",
    "    out = p.starmap(utils.audio.augmentAudio, func_args)\n",
    "\n",
    "#pdb.set_trace()\n",
    "np.save(PATH+\"female_audios_500.npy\", np.array(out)) # two channel audio\n",
    "elapsed = time.time() - t\n",
    "print(elapsed)"
   ]
  },
  {
   "cell_type": "markdown",
   "metadata": {},
   "source": [
    "### Create N Male audio files without alpha, beta \n"
   ]
  },
  {
   "cell_type": "code",
   "execution_count": 9,
   "metadata": {},
   "outputs": [
    {
     "output_type": "stream",
     "name": "stdout",
     "text": [
      "36.081870555877686\n"
     ]
    }
   ],
   "source": [
    "N = 500\n",
    "\n",
    "t = time.time()\n",
    "if not os.path.exists('male_audios'):\n",
    "    os.makedirs('male_audios')\n",
    "\n",
    "PATH = \"male_audios/\"\n",
    "len_males = len(males)\n",
    "\n",
    "# in percent\n",
    "min_speed, max_speed = 0.9, 1.2\n",
    "speed_range = (max_speed - min_speed)  # 2\n",
    "max_noise = 0.001 \n",
    "min_pitch, max_pitch = -4, 4\n",
    "audio = np.zeros_like(dataset[0])\n",
    "\n",
    "idx_list = utils.misc.getMaleList(input_df, N)\n",
    "\n",
    "# add radial decay\n",
    "alpha=np.random.rand(N)\n",
    "beta=np.reciprocal(np.sqrt(np.arange(1, N+1)))\n",
    "\n",
    "#pdb.set_trace()\n",
    "noise_factor = list(np.random.rand(N) * max_noise)\n",
    "shift_max = np.random.rand(N) * 3 # in seconds\n",
    "shift = [np.random.randint(0, int(SR * i)) for i in shift_max]\n",
    "direction = [\"left\" if np.random.randint(0, 2) else \"right\" for i in np.arange(N)] \n",
    "pitch_factor = list(np.random.randint(min_pitch, max_pitch, N)) # pitch > 0 higher pitch, else deeper voice\n",
    "speed_factor = list(np.random.rand(N) * speed_range + min_speed)\n",
    "data = [dataset[idx] for idx in idx_list] \n",
    "\n",
    "#create arguments as list for parallel computing\n",
    "func_args = [(data[i], SR, noise_factor[i], shift[i], direction[i], pitch_factor[i], speed_factor[i]) for i in np.arange(N)]\n",
    "\n",
    "#multiprocessing\n",
    "with Pool(8) as p:\n",
    "    out = p.starmap(utils.audio.augmentAudio, func_args)\n",
    "\n",
    "#pdb.set_trace()\n",
    "np.save(PATH+\"male_audios_500.npy\", np.array(out)) # two channel audio\n",
    "elapsed = time.time() - t\n",
    "print(elapsed)"
   ]
  },
  {
   "cell_type": "code",
   "execution_count": null,
   "metadata": {},
   "outputs": [],
   "source": []
  }
 ],
 "metadata": {
  "kernelspec": {
   "name": "python3",
   "display_name": "Python 3.8.5 64-bit ('venv')",
   "metadata": {
    "interpreter": {
     "hash": "bc364f67e273e3930e1d27d9f1f0d750c0add4fa46033512b45978f450630ea6"
    }
   }
  },
  "language_info": {
   "codemirror_mode": {
    "name": "ipython",
    "version": 3
   },
   "file_extension": ".py",
   "mimetype": "text/x-python",
   "name": "python",
   "nbconvert_exporter": "python",
   "pygments_lexer": "ipython3",
   "version": "3.8.5-final"
  }
 },
 "nbformat": 4,
 "nbformat_minor": 4
}