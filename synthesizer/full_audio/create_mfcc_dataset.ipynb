{
 "cells": [
  {
   "cell_type": "code",
   "execution_count": 1,
   "metadata": {},
   "outputs": [
    {
     "name": "stderr",
     "output_type": "stream",
     "text": [
      "/opt/anaconda3/envs/aip37/lib/python3.7/site-packages/noisereduce/noisereduce.py:5: TqdmExperimentalWarning: Using `tqdm.autonotebook.tqdm` in notebook mode. Use `tqdm.tqdm` instead to force console mode (e.g. in jupyter console)\n",
      "  from tqdm.autonotebook import tqdm\n"
     ]
    }
   ],
   "source": [
    "#%load_ext autoreload\n",
    "#%autoreload 2\n",
    "\n",
    "import os\n",
    "import numpy as np \n",
    "from multiprocessing import Pool\n",
    "import time \n",
    "import random\n",
    "import IPython.display as ipd\n",
    "import pyaudio\n",
    "import sys\n",
    "import librosa\n",
    "import librosa.display\n",
    "from tqdm import tqdm\n",
    "from matplotlib import pyplot as plt\n",
    "sys.path.append('../../')\n",
    "\n",
    "import pdb\n",
    "#import utils.audio as a\n",
    "#import utils.plots as plots\n",
    "import utils as utils"
   ]
  },
  {
   "cell_type": "markdown",
   "metadata": {},
   "source": [
    "### Load audio files into dataset"
   ]
  },
  {
   "cell_type": "code",
   "execution_count": 2,
   "metadata": {},
   "outputs": [
    {
     "name": "stderr",
     "output_type": "stream",
     "text": [
      "100%|██████████| 384/384 [00:16<00:00, 23.92it/s]\n"
     ]
    }
   ],
   "source": [
    "# load (fe)male audio sequences without alpha, beta \n",
    "PATH = '../../datasets/freesound.org/'\n",
    "SR = 22050 \n",
    "\n",
    "dataset = []\n",
    "chunk_size = int(SR * .5) # 500ms\n",
    "num_feats = 80\n",
    "files = os.listdir(PATH + \"wav_denoised/\")\n",
    "\n",
    "for f in tqdm(files):\n",
    "    if f.split('.')[-1] != 'wav':\n",
    "        continue\n",
    "    #pdb.set_trace()\n",
    "    audio, sr = utils.audio.loadAudio(PATH + \"wav/\" + f, sr=SR)\n",
    "    chunks = utils.misc.slidingWindow(audio, chunk_size, chunk_size)\n",
    "    for i, (chunk) in enumerate(chunks):\n",
    "        #pdb.set_trace()\n",
    "        np.save(PATH + \"mfcc/\" + f.split('.')[0] + \"_\" + str(i) + \"_500ms.npy\", librosa.feature.mfcc(y=chunks[i, :], sr=SR, n_mfcc=num_feats))"
   ]
  },
  {
   "cell_type": "markdown",
   "metadata": {},
   "source": [
    "### Create Feature Vector for all chunks"
   ]
  },
  {
   "cell_type": "code",
   "execution_count": 3,
   "metadata": {},
   "outputs": [
    {
     "name": "stderr",
     "output_type": "stream",
     "text": [
      "100%|██████████| 384/384 [01:33<00:00,  4.09it/s]\n"
     ]
    }
   ],
   "source": [
    "# load (fe)male audio sequences without alpha, beta \n",
    "PATH = '../../datasets/freesound.org/'\n",
    "SR = 22050 \n",
    "\n",
    "dataset = []\n",
    "chunk_size = int(SR * .2) # 500ms\n",
    "num_feats = 6\n",
    "files = os.listdir(PATH + \"wav_denoised/\")\n",
    "X = []\n",
    "for f in tqdm(files):\n",
    "    if f.split('.')[-1] != 'wav':\n",
    "        continue\n",
    "    #pdb.set_trace()\n",
    "    audio, sr = utils.audio.loadAudio(PATH + \"wav/\" + f, sr=SR)\n",
    "    chunks = utils.misc.slidingWindow(audio, chunk_size, chunk_size)\n",
    "    for i, (chunk) in enumerate(chunks):\n",
    "\n",
    "         # mfcc\n",
    "        feat = librosa.feature.mfcc(y=chunks[i, :], sr=SR, n_mfcc=num_feats).flatten() # 13x44\n",
    "\n",
    "        # RMS mag spec\n",
    "        rms = librosa.feature.rms(y=chunks[i, :]).flatten() #1x44\n",
    "\n",
    "        # Spectral centroid\n",
    "        cent = librosa.feature.spectral_centroid(y=chunks[i, :], sr=SR).flatten()#1x44\n",
    "\n",
    "        # Spectral bandwidth\n",
    "        band = librosa.feature.spectral_bandwidth(y=chunks[i, :], sr=SR).flatten()#1x44\n",
    "\n",
    "        # Spectral flatness\n",
    "        flat = librosa.feature.spectral_flatness(y=chunks[i, :]).flatten()#1x44\n",
    "\n",
    "        # spectral rolloff\n",
    "        rolloff = librosa.feature.spectral_rolloff(y=chunks[i, :], sr=SR).flatten()#1x44\n",
    "\n",
    "        # zero crossing rate \n",
    "        zcross = librosa.feature.zero_crossing_rate(chunks[i, :]).flatten()#1x44\n",
    "\n",
    "        # Spectral contrast\n",
    "        S = np.abs(librosa.stft(chunks[i, :]))\n",
    "        spec_contrast = librosa.feature.spectral_contrast(S=S, sr=SR).flatten() #7x44\n",
    "        \n",
    "        # concetante to feature vector\n",
    "        X = np.concatenate((feat, rms, cent, band, flat, rolloff, zcross, spec_contrast))\n",
    "                            \n",
    "        #print(np.asarray(X).reshape(-1).shape)\n",
    "        #pdb.set_trace()\n",
    "        np.save(PATH + \"features/\" + f.split('.')[0] + \"_\" + str(i) + \"_200ms.npy\", np.asarray(X).reshape(-1))"
   ]
  },
  {
   "cell_type": "code",
   "execution_count": 18,
   "metadata": {},
   "outputs": [
    {
     "ename": "AttributeError",
     "evalue": "'list' object has no attribute 'shape'",
     "output_type": "error",
     "traceback": [
      "\u001b[0;31m---------------------------------------------------------------------------\u001b[0m",
      "\u001b[0;31mAttributeError\u001b[0m                            Traceback (most recent call last)",
      "\u001b[0;32m<ipython-input-18-bc5f1a0adac8>\u001b[0m in \u001b[0;36m<module>\u001b[0;34m\u001b[0m\n\u001b[0;32m----> 1\u001b[0;31m \u001b[0mX\u001b[0m\u001b[0;34m.\u001b[0m\u001b[0mshape\u001b[0m\u001b[0;34m\u001b[0m\u001b[0;34m\u001b[0m\u001b[0m\n\u001b[0m",
      "\u001b[0;31mAttributeError\u001b[0m: 'list' object has no attribute 'shape'"
     ]
    }
   ],
   "source": [
    "X.shape"
   ]
  },
  {
   "cell_type": "code",
   "execution_count": null,
   "metadata": {},
   "outputs": [],
   "source": []
  }
 ],
 "metadata": {
  "kernelspec": {
   "display_name": "Python 3",
   "language": "python",
   "name": "python3"
  },
  "language_info": {
   "codemirror_mode": {
    "name": "ipython",
    "version": 3
   },
   "file_extension": ".py",
   "mimetype": "text/x-python",
   "name": "python",
   "nbconvert_exporter": "python",
   "pygments_lexer": "ipython3",
   "version": "3.7.6"
  }
 },
 "nbformat": 4,
 "nbformat_minor": 4
}
